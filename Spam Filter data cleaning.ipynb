{
 "cells": [
  {
   "cell_type": "markdown",
   "metadata": {},
   "source": [
    "# Importing Libraries"
   ]
  },
  {
   "cell_type": "code",
   "execution_count": 2,
   "metadata": {},
   "outputs": [],
   "source": [
    "import email\n",
    "import os\n",
    "import re\n",
    "import numpy as np\n",
    "from sklearn.feature_extraction.text import CountVectorizer\n",
    "import pandas as pd\n",
    "import matplotlib.pyplot as plt"
   ]
  },
  {
   "cell_type": "markdown",
   "metadata": {},
   "source": [
    "# Functions To Read Emails"
   ]
  },
  {
   "cell_type": "code",
   "execution_count": 3,
   "metadata": {},
   "outputs": [],
   "source": [
    "def read_email(fn):\n",
    "    f = open(fn,\"r\")\n",
    "    try:\n",
    "        a = f.read()\n",
    "        return email.message_from_string(a)\n",
    "    except:\n",
    "        return \"\""
   ]
  },
  {
   "cell_type": "code",
   "execution_count": 4,
   "metadata": {},
   "outputs": [],
   "source": [
    "def read_all_email(direc):\n",
    "    emails = []\n",
    "    for i in os.listdir(direc):\n",
    "        b = read_email(direc+i)\n",
    "        if len(b)!=0:\n",
    "            emails.append(b)\n",
    "    return emails"
   ]
  },
  {
   "cell_type": "code",
   "execution_count": 5,
   "metadata": {},
   "outputs": [],
   "source": [
    "def clean_string(s):\n",
    "    cleanr = re.compile('<.*?>|&([a-z0-9]+|#[0-9]{1,6}|#x[0-9a-f]{1,6});')\n",
    "    str = re.sub(cleanr,\"\",s)\n",
    "    str = str.split(\"\\n\")\n",
    "    l = \"\"\n",
    "    for i in str:\n",
    "        if len(i)>0:\n",
    "            l += \" \"+i\n",
    "    return l"
   ]
  },
  {
   "cell_type": "code",
   "execution_count": 6,
   "metadata": {},
   "outputs": [],
   "source": [
    "def get_content(l):\n",
    "    sender = []\n",
    "    subject = []\n",
    "    body = []\n",
    "    for i in l:\n",
    "        sender.append(i[\"to\"])\n",
    "        subject.append(i[\"subject\"])\n",
    "        body.append(clean_string(str(i.get_payload())))\n",
    "    return sender, subject, body     "
   ]
  },
  {
   "cell_type": "markdown",
   "metadata": {},
   "source": [
    "# Reading Emails"
   ]
  },
  {
   "cell_type": "code",
   "execution_count": 7,
   "metadata": {},
   "outputs": [],
   "source": [
    "ham = read_all_email(\"ham/\")\n",
    "spam = read_all_email(\"spam/\")"
   ]
  },
  {
   "cell_type": "code",
   "execution_count": 47,
   "metadata": {
    "scrolled": true
   },
   "outputs": [
    {
     "name": "stdout",
     "output_type": "stream",
     "text": [
      "<dcek1a1@netsgo.com>\n"
     ]
    }
   ],
   "source": [
    "print(spam[0][\"to\"])"
   ]
  },
  {
   "cell_type": "markdown",
   "metadata": {},
   "source": [
    "# Getting Email Content"
   ]
  },
  {
   "cell_type": "code",
   "execution_count": 9,
   "metadata": {},
   "outputs": [],
   "source": [
    "hsender, hsubject, hbody = get_content(ham)\n",
    "ssender, ssubject, sbody = get_content(spam)"
   ]
  },
  {
   "cell_type": "code",
   "execution_count": 10,
   "metadata": {},
   "outputs": [],
   "source": [
    "hsender = np.array(hsender)\n",
    "hsubject = np.array(hsubject)\n",
    "hbody = np.array(hbody)\n",
    "ssender = np.array(ssender)\n",
    "ssubject = np.array(ssubject)\n",
    "sbody = np.array(sbody)"
   ]
  },
  {
   "cell_type": "code",
   "execution_count": 11,
   "metadata": {
    "scrolled": true
   },
   "outputs": [
    {
     "name": "stdout",
     "output_type": "stream",
     "text": [
      "[['Chris Garrigues <cwg-dated-1030377287.06fa6d@DeepEddy.Com>']\n",
      " ['\"\\'zzzzteana@yahoogroups.com\\'\" <zzzzteana@yahoogroups.com>']\n",
      " ['zzzzteana <zzzzteana@yahoogroups.com>']\n",
      " ...\n",
      " ['yyyy@example.com']\n",
      " ['yyyy@example.com']\n",
      " ['yyyy@example.com']]\n"
     ]
    }
   ],
   "source": [
    "print(np.array(hsender)[:,np.newaxis])"
   ]
  },
  {
   "cell_type": "markdown",
   "metadata": {},
   "source": [
    "# Creating Dataset (DataFrame)"
   ]
  },
  {
   "cell_type": "code",
   "execution_count": 12,
   "metadata": {},
   "outputs": [],
   "source": [
    "ham_label = np.array([\"ham\"]*len(hsender))\n",
    "spam_label = np.array([\"spam\"]*len(ssender))\n",
    "ham_df = pd.DataFrame(np.concatenate([np.array(hsender)[:,np.newaxis],np.array(hsubject)[:,np.newaxis],np.array(hbody)[:,np.newaxis],ham_label[:,np.newaxis]],axis=1),columns = [\"sender\",\"subject\",\"body\", \"label\"])\n",
    "spam_df = pd.DataFrame(np.concatenate([np.array(ssender)[:,np.newaxis],np.array(ssubject)[:,np.newaxis],np.array(sbody)[:,np.newaxis],spam_label[:,np.newaxis]],axis=1),columns = [\"sender\",\"subject\",\"body\", \"label\"])\n",
    "df = pd.concat([ham_df, spam_df])"
   ]
  },
  {
   "cell_type": "code",
   "execution_count": 13,
   "metadata": {},
   "outputs": [],
   "source": [
    "from sklearn.utils import shuffle\n",
    "df = shuffle(df)"
   ]
  },
  {
   "cell_type": "code",
   "execution_count": 14,
   "metadata": {},
   "outputs": [
    {
     "data": {
      "text/plain": [
       "sender     object\n",
       "subject    object\n",
       "body       object\n",
       "label      object\n",
       "dtype: object"
      ]
     },
     "execution_count": 14,
     "metadata": {},
     "output_type": "execute_result"
    }
   ],
   "source": [
    "df.dtypes"
   ]
  },
  {
   "cell_type": "code",
   "execution_count": 22,
   "metadata": {},
   "outputs": [
    {
     "data": {
      "text/plain": [
       "1178     ham\n",
       "866      ham\n",
       "1037     ham\n",
       "305      ham\n",
       "2216     ham\n",
       "        ... \n",
       "369      ham\n",
       "815      ham\n",
       "187      ham\n",
       "175     spam\n",
       "73       ham\n",
       "Name: label, Length: 2827, dtype: object"
      ]
     },
     "execution_count": 22,
     "metadata": {},
     "output_type": "execute_result"
    }
   ],
   "source": [
    "df[\"sender\"] = df[\"sender\"].astype(str)\n",
    "df[\"subject\"].astype(str)\n",
    "df[\"body\"].astype(str)\n",
    "df[\"label\"].astype(str)"
   ]
  },
  {
   "cell_type": "code",
   "execution_count": 46,
   "metadata": {},
   "outputs": [
    {
     "data": {
      "text/plain": [
       "' [, ]'"
      ]
     },
     "execution_count": 46,
     "metadata": {},
     "output_type": "execute_result"
    }
   ],
   "source": [
    "# type()\n",
    "df.iloc[0,2]"
   ]
  },
  {
   "cell_type": "markdown",
   "metadata": {},
   "source": [
    "# Storing Dataset as .csv "
   ]
  },
  {
   "cell_type": "code",
   "execution_count": 25,
   "metadata": {},
   "outputs": [],
   "source": [
    "df.to_csv(r'Data.csv')"
   ]
  },
  {
   "cell_type": "code",
   "execution_count": 16,
   "metadata": {},
   "outputs": [
    {
     "data": {
      "text/plain": [
       "ham     2410\n",
       "spam     417\n",
       "Name: label, dtype: int64"
      ]
     },
     "execution_count": 16,
     "metadata": {},
     "output_type": "execute_result"
    }
   ],
   "source": [
    "# plt.grid()\n",
    "label = df.iloc[:,-1]\n",
    "label.value_counts()\n",
    "# plt.hist(df.iloc[:,-1].apply(int).values, edgecolor = \"red\")"
   ]
  },
  {
   "cell_type": "markdown",
   "metadata": {},
   "source": [
    "# Visualising Dataset"
   ]
  },
  {
   "cell_type": "code",
   "execution_count": 33,
   "metadata": {},
   "outputs": [
    {
     "data": {
      "text/plain": [
       "([<matplotlib.axis.XTick at 0x7fafe9e986a0>,\n",
       "  <matplotlib.axis.XTick at 0x7fafb27ece80>],\n",
       " [Text(0, 0, 'Not Spam'), Text(1, 0, 'Spam')])"
      ]
     },
     "execution_count": 33,
     "metadata": {},
     "output_type": "execute_result"
    },
    {
     "data": {
      "image/png": "[encoded data removed]",
      "text/plain": [
       "<Figure size 432x288 with 1 Axes>"
      ]
     },
     "metadata": {
      "needs_background": "light"
     },
     "output_type": "display_data"
    }
   ],
   "source": [
    "ind = np.arange(len(label.unique()))\n",
    "ham_height = label.value_counts()[0]\n",
    "spam_height = label.value_counts()[1]\n",
    "plt.grid()\n",
    "plt.bar(ind, [ham_height, spam_height], width = 0.15)\n",
    "plt.xticks((0,1), ('Not Spam',\"Spam\"))"
   ]
  }
 ],
 "metadata": {
  "kernelspec": {
   "display_name": "Python 3",
   "language": "python",
   "name": "python3"
  },
  "language_info": {
   "codemirror_mode": {
    "name": "ipython",
    "version": 3
   },
   "file_extension": ".py",
   "mimetype": "text/x-python",
   "name": "python",
   "nbconvert_exporter": "python",
   "pygments_lexer": "ipython3",
   "version": "3.8.5"
  }
 },
 "nbformat": 4,
 "nbformat_minor": 4
}
